{
  "nbformat": 4,
  "nbformat_minor": 0,
  "metadata": {
    "colab": {
      "provenance": [],
      "authorship_tag": "ABX9TyM1TNSY1wUx3UhYHo3BsQfU",
      "include_colab_link": true
    },
    "kernelspec": {
      "name": "python3",
      "display_name": "Python 3"
    },
    "language_info": {
      "name": "python"
    }
  },
  "cells": [
    {
      "cell_type": "markdown",
      "metadata": {
        "id": "view-in-github",
        "colab_type": "text"
      },
      "source": [
        "<a href=\"https://colab.research.google.com/github/jyothiradithya123/Sirpi-practice-qns/blob/main/Week_1_practice_questions_sirpi.ipynb\" target=\"_parent\"><img src=\"https://colab.research.google.com/assets/colab-badge.svg\" alt=\"Open In Colab\"/></a>"
      ]
    },
    {
      "cell_type": "markdown",
      "source": [
        "1. Types of Variables\n",
        "Question:\n",
        "Write a Python program that defines three types of variables:\n",
        "      1.\tA string variable to store your name.\n",
        "      2.\tAn integer variable to store your age.\n",
        "      3.\tA float variable to store your height in meters.\n",
        "Print these variables along with their types using the type() function.\n"
      ],
      "metadata": {
        "id": "iNzZbkUVcrZc"
      }
    },
    {
      "cell_type": "code",
      "source": [
        "name = \"Jyothiradithya\"\n",
        "age = 21\n",
        "height = 173.8\n",
        "print(name,type(name),age,type(age),height,type(height))\n"
      ],
      "metadata": {
        "colab": {
          "base_uri": "https://localhost:8080/"
        },
        "id": "N0U439KDpq4n",
        "outputId": "6a5d100b-758c-4d4c-f72e-f5b125f4fd69"
      },
      "execution_count": null,
      "outputs": [
        {
          "output_type": "stream",
          "name": "stdout",
          "text": [
            "Jyothiradithya <class 'str'> 21 <class 'int'> 173.8 <class 'float'>\n"
          ]
        }
      ]
    },
    {
      "cell_type": "markdown",
      "source": [
        "2. Lists\n",
        "Question:\n",
        "Create a list of five fruits ([\"apple\", \"banana\", \"cherry\", \"date\", \"elderberry\"]):\n",
        " 1. Print the first and last fruit from the list.\n",
        " 2. Add a new fruit to the end of the list.\n",
        " 3. Remove the second fruit from the list.\n",
        " 4. Sort the list in alphabetical order and print it\n"
      ],
      "metadata": {
        "id": "81clWQ7Tc1bR"
      }
    },
    {
      "cell_type": "code",
      "source": [
        "fruitsL = [\"apple\",\"banana\",\"cherry\",\"date\",\"elderberry\"]\n",
        "print(fruitsL[0])\n",
        "print(fruitsL[4])\n",
        "fruitsL.append(\"orange\")\n",
        "fruitsL.pop(1)\n",
        "fruitsL.sort()\n",
        "print(fruitsL)"
      ],
      "metadata": {
        "colab": {
          "base_uri": "https://localhost:8080/"
        },
        "id": "rusdYlBec4vj",
        "outputId": "9087dd1f-060d-4096-d96f-616386b74a2f"
      },
      "execution_count": null,
      "outputs": [
        {
          "output_type": "stream",
          "name": "stdout",
          "text": [
            "apple\n",
            "elderberry\n",
            "['apple', 'cherry', 'date', 'elderberry', 'orange']\n"
          ]
        }
      ]
    },
    {
      "cell_type": "markdown",
      "source": [
        "3. Tuples\n",
        "Question:\n",
        "Create a tuple to store the names of three programming languages (\"Python\", \"Java\", \"C++\"):\n",
        " 1. Access the second language in the tuple.\n",
        " 2.Try to replace the second language with \"JavaScript\". What happens?\n",
        " 3. Convert the tuple to a list, make the modification, and convert it back to a tuple.\n",
        "\n"
      ],
      "metadata": {
        "id": "l75dR33hc9Zc"
      }
    },
    {
      "cell_type": "code",
      "source": [
        "languages = (\"Python\",\"Java\",\"C++\")\n",
        "print(languages[1])\n",
        "# languages[1] = \"Javascript\"\n",
        "# print(languages)\n",
        "#In tuples we cant change the values because it is immutable\n",
        "languages = list(languages)\n",
        "languages[1] = \"Javascript\"\n",
        "languages = tuple(languages)\n",
        "print(languages)"
      ],
      "metadata": {
        "colab": {
          "base_uri": "https://localhost:8080/"
        },
        "id": "k0qBj_2OdAj9",
        "outputId": "a847e309-0f16-4911-9305-832fbd34bccd"
      },
      "execution_count": null,
      "outputs": [
        {
          "output_type": "stream",
          "name": "stdout",
          "text": [
            "Java\n",
            "('Python', 'Javascript', 'C++')\n"
          ]
        }
      ]
    },
    {
      "cell_type": "markdown",
      "source": [
        "4. Data Dictionary - Basics\n",
        "Question:\n",
        "Create a dictionary with the following student details:\n",
        "•\tname: \"John\"\n",
        "•\tage: 18\n",
        "•\tgrade: \"A\"\n",
        " 1. Access and print the value of grade.\n",
        " 2.Add a new key-value pair for hobby with the value \"reading\".\n",
        " 3.Delete the age key from the dictionary.\n"
      ],
      "metadata": {
        "id": "3BNSCf8KdEVn"
      }
    },
    {
      "cell_type": "code",
      "source": [
        "students = {\"name\" : \"John\",\"age\" : 18,\"grade\" : \"A\"}\n",
        "print(students[\"grade\"])\n",
        "students[\"hobby\"] = \"reading\"\n",
        "students.pop(\"age\")\n",
        "print(students)"
      ],
      "metadata": {
        "colab": {
          "base_uri": "https://localhost:8080/"
        },
        "id": "QKDxVNbHdFYC",
        "outputId": "fc059d48-1c64-4f43-eaf6-386efe2fc9c0"
      },
      "execution_count": null,
      "outputs": [
        {
          "output_type": "stream",
          "name": "stdout",
          "text": [
            "A\n",
            "{'name': 'John', 'grade': 'A', 'hobby': 'reading'}\n"
          ]
        }
      ]
    },
    {
      "cell_type": "markdown",
      "source": [
        "5. Data Dictionary - Operations\n",
        "Question:\n",
        "You are given the following dictionary:\n",
        "marks = {\"Math\": 85, \"Science\": 90, \"English\": 78}\n",
        "\n",
        " 1.Find the average marks across all subjects.\n",
        " 2. Update the marks for Math to 88.\n",
        " 3.Check if the key \"History\" exists in the dictionary.\n",
        "\n"
      ],
      "metadata": {
        "id": "_tfvrrzsdGFl"
      }
    },
    {
      "cell_type": "code",
      "source": [
        "marks = {\"Math\" : 85,\"Science\" : 90,\"English\":78}\n",
        "average = sum(marks.values())/len(marks)\n",
        "print(average)\n",
        "marks[\"Math\"] = 88\n",
        "print(marks)\n",
        "print(\"History\" in marks)"
      ],
      "metadata": {
        "colab": {
          "base_uri": "https://localhost:8080/"
        },
        "id": "WqhjqaTjdKwW",
        "outputId": "298a0a70-7f34-49f5-baeb-db5fed36e453"
      },
      "execution_count": null,
      "outputs": [
        {
          "output_type": "stream",
          "name": "stdout",
          "text": [
            "84.33333333333333\n",
            "{'Math': 88, 'Science': 90, 'English': 78}\n",
            "False\n"
          ]
        }
      ]
    },
    {
      "cell_type": "markdown",
      "source": [
        "6. Functions - Basics\n",
        "Question:\n",
        "Write a Python function named square that takes an integer as input and returns its square.\n",
        "•\tCall the function with the value 7 and print the result.\n",
        "\n"
      ],
      "metadata": {
        "id": "WdMIfdPxdrk_"
      }
    },
    {
      "cell_type": "code",
      "source": [
        "num = int(input(\"Enter a number : \"))\n",
        "def square(num):\n",
        "  return num*num\n",
        "print(square(num))"
      ],
      "metadata": {
        "colab": {
          "base_uri": "https://localhost:8080/"
        },
        "id": "0tKeijKvdwU9",
        "outputId": "eae11f0a-93e7-421a-d954-1168ead7e7a0"
      },
      "execution_count": null,
      "outputs": [
        {
          "output_type": "stream",
          "name": "stdout",
          "text": [
            "Enter a number : 7\n",
            "49\n"
          ]
        }
      ]
    },
    {
      "cell_type": "markdown",
      "source": [],
      "metadata": {
        "id": "guI9Tmp0cxQc"
      }
    },
    {
      "cell_type": "markdown",
      "source": [
        "7. Functions - Default Arguments\n",
        "Question:\n",
        "Write a Python function named greet that takes two parameters:\n",
        "•\tname (a string)\n",
        "•\tmessage (a string with a default value of \"Welcome!\")\n",
        "Call the function twice:\n",
        "  1.\tOnce by providing both name and message.\n",
        "  \n",
        "  2.\tOnce by providing only name.\n"
      ],
      "metadata": {
        "id": "5p2QbNjjdzPH"
      }
    },
    {
      "cell_type": "code",
      "source": [
        "def greet(name,message=\"Welcome!\"):\n",
        "  print(name,message)\n",
        "greet(\"Jyothiradithya\",\"Good Morning\")\n",
        "greet(\"Jyothiradithya\")"
      ],
      "metadata": {
        "colab": {
          "base_uri": "https://localhost:8080/"
        },
        "id": "jGNYSLicd0xW",
        "outputId": "c3ba2c22-c8fb-47b1-f1e0-27fab7de04ec"
      },
      "execution_count": null,
      "outputs": [
        {
          "output_type": "stream",
          "name": "stdout",
          "text": [
            "Jyothiradithya Good Morning\n",
            "Jyothiradithya Welcome!\n"
          ]
        }
      ]
    },
    {
      "cell_type": "markdown",
      "source": [
        "8. Functions - Positional and Keyword Arguments\n",
        "Question:\n",
        "Write a Python function named student_info that accepts the following parameters:\n",
        "•\tname (string)\n",
        "•\tage (integer)\n",
        "•\tgrade (string, default value is \"A\")\n",
        "Call the function with:\n",
        "  1.\tPositional arguments only.\n",
        "  2.\tKeyword arguments only.\n",
        "Print the result in each case.\n"
      ],
      "metadata": {
        "id": "2gaor5wvd8PP"
      }
    },
    {
      "cell_type": "code",
      "source": [
        "def student_info(name,age,grade=\"A\"):\n",
        "  print(name,age,grade)\n",
        "student_info(\"Jyothiradithya\",21)\n",
        "student_info(name = \"Jyothiradithya\",age =21,grade=\"B\")"
      ],
      "metadata": {
        "colab": {
          "base_uri": "https://localhost:8080/"
        },
        "id": "kOYVsDYneBKI",
        "outputId": "5962c1a8-9b66-4568-cb3d-ecc5f74e8352"
      },
      "execution_count": null,
      "outputs": [
        {
          "output_type": "stream",
          "name": "stdout",
          "text": [
            "Jyothiradithya 21 A\n",
            "Jyothiradithya 21 B\n"
          ]
        }
      ]
    },
    {
      "cell_type": "markdown",
      "source": [
        "9. Lists and Functions\n",
        "Question:\n",
        "Write a Python program with the following requirements:\n",
        "a) Create a list of numbers: [10, 20, 30, 40, 50].\n",
        "b) Define a function named double_values that takes a list as input and returns a new list with each value doubled.\n",
        "c) Pass the list to the function and print the returned list.\n"
      ],
      "metadata": {
        "id": "KqjCKhHLeD2a"
      }
    },
    {
      "cell_type": "code",
      "source": [
        "numersL = [10,20,30,40,50]\n",
        "def double_values(numersL):\n",
        "  return[i*2 for i in numersL]\n",
        "double_values(numersL)"
      ],
      "metadata": {
        "colab": {
          "base_uri": "https://localhost:8080/"
        },
        "id": "lEtvsNhQeEmA",
        "outputId": "4fe37403-ba61-4df0-d39c-62bfc476019c"
      },
      "execution_count": null,
      "outputs": [
        {
          "output_type": "execute_result",
          "data": {
            "text/plain": [
              "[20, 40, 60, 80, 100]"
            ]
          },
          "metadata": {},
          "execution_count": 51
        }
      ]
    },
    {
      "cell_type": "markdown",
      "source": [
        "10. Combining Data Dictionary and Functions\n",
        "Question:\n",
        "Create a dictionary named students to store the names and grades of three students:\n",
        "students = {\"Alice\": 85, \"Bob\": 78, \"Eve\": 92}\n",
        "a) Write a function named add_student that accepts a dictionary, a student name, and a grade, then adds the student to the dictionary.\n",
        "b) Write another function named average_grade that calculates the average grade of all students in the dictionary.\n",
        "Call the functions to:\n",
        "  1.\tAdd a new student (\"David\": 88).\n",
        "  2.\tCalculate and print the average grade\n"
      ],
      "metadata": {
        "id": "gbzn-rOAeFKI"
      }
    },
    {
      "cell_type": "code",
      "source": [
        "students = {\"Alice\": 85,\"Bob\":78,\"Eve\": 92}\n",
        "def add_student(students,name,grade):\n",
        "  students[name] = grade\n",
        "def avg_grade(students):\n",
        "  print(\"The average of grades is : \",sum(students.values())/len(students))\n",
        "add_student(students,\"Rom\",89)\n",
        "print(students)\n",
        "avg_grade(students)"
      ],
      "metadata": {
        "colab": {
          "base_uri": "https://localhost:8080/"
        },
        "id": "MtvCdUO0eJsJ",
        "outputId": "85141c26-fa27-4631-9219-fcd3dd45fc1a"
      },
      "execution_count": null,
      "outputs": [
        {
          "output_type": "stream",
          "name": "stdout",
          "text": [
            "{'Alice': 85, 'Bob': 78, 'Eve': 92, 'Rom': 89}\n",
            "The average of grades is :  86.0\n"
          ]
        }
      ]
    }
  ]
}