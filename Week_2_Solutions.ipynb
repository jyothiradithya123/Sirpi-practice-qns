{
  "nbformat": 4,
  "nbformat_minor": 0,
  "metadata": {
    "colab": {
      "provenance": [],
      "authorship_tag": "ABX9TyM6qcbB5ytsvZT0wVIfauKh",
      "include_colab_link": true
    },
    "kernelspec": {
      "name": "python3",
      "display_name": "Python 3"
    },
    "language_info": {
      "name": "python"
    }
  },
  "cells": [
    {
      "cell_type": "markdown",
      "metadata": {
        "id": "view-in-github",
        "colab_type": "text"
      },
      "source": [
        "<a href=\"https://colab.research.google.com/github/jyothiradithya123/Sirpi-practice-qns/blob/main/Week_2_Solutions.ipynb\" target=\"_parent\"><img src=\"https://colab.research.google.com/assets/colab-badge.svg\" alt=\"Open In Colab\"/></a>"
      ]
    },
    {
      "cell_type": "code",
      "execution_count": null,
      "metadata": {
        "colab": {
          "base_uri": "https://localhost:8080/"
        },
        "id": "AnTKAlvBdqNH",
        "outputId": "8cd739ab-098c-44c6-f98a-45c990b55c8b"
      },
      "outputs": [
        {
          "output_type": "stream",
          "name": "stdout",
          "text": [
            "Before swapping : 4 3\n",
            "After swapping : 3 4\n"
          ]
        }
      ],
      "source": [
        "# 1. Variables and Data Types\n",
        "# Write a Python program that swaps two numbers without using a third variable.\n",
        "# ________________________________________\n",
        "a = 4\n",
        "b = 3\n",
        "print(\"Before swapping :\",a,b)\n",
        "a,b = b,a\n",
        "print(\"After swapping :\",a,b)"
      ]
    },
    {
      "cell_type": "code",
      "source": [
        "# 2. Lists - Nested Lists\n",
        "# You have a nested list:\n",
        "# data = [[1, 2, 3], [4, 5, 6], [7, 8, 9]]\n",
        "# a) Extract and print the middle element from the nested list.\n",
        "# b) Flatten the list into a single list [1, 2, 3, 4, 5, 6, 7, 8, 9] without using loops.\n",
        "# ________________________________________\n",
        "data = [[1,2,3],[4,5,6],[7,8,9]]\n",
        "print(data[1])\n",
        "print(data[1][1])\n",
        "singleL = data[0] + data[1] + data[2]\n",
        "print(singleL)\n"
      ],
      "metadata": {
        "colab": {
          "base_uri": "https://localhost:8080/"
        },
        "id": "Wb4EZ85cdywI",
        "outputId": "54e0fbd8-2f6a-45f4-fa67-ea7b60673e8b"
      },
      "execution_count": null,
      "outputs": [
        {
          "output_type": "stream",
          "name": "stdout",
          "text": [
            "[4, 5, 6]\n",
            "5\n",
            "[1, 2, 3, 4, 5, 6, 7, 8, 9]\n"
          ]
        }
      ]
    },
    {
      "cell_type": "code",
      "source": [
        "# 3. Tuples - Tuple Unpacking\n",
        "# Given:\n",
        "# values = (100, 200, 300)\n",
        "# a) Unpack this tuple into three variables and print them.\n",
        "# b) Swap the values without using a temporary variable.\n",
        "# ________________________________________\n",
        "values = (100,200,300)\n",
        "x,y,z = values\n",
        "print(x,y,z)\n",
        "x,y = y,x\n",
        "print(x,y)"
      ],
      "metadata": {
        "colab": {
          "base_uri": "https://localhost:8080/"
        },
        "id": "O-_F3_eAdzC4",
        "outputId": "1f2908fc-6765-49fc-c0c7-59f324f1d4f8"
      },
      "execution_count": null,
      "outputs": [
        {
          "output_type": "stream",
          "name": "stdout",
          "text": [
            "100 200 300\n",
            "200 100\n"
          ]
        }
      ]
    },
    {
      "cell_type": "code",
      "source": [
        "# 4. Dictionary - Complex Keys\n",
        "# Create a dictionary where:\n",
        "# •\tKeys are tuples representing (x, y) coordinates.\n",
        "# •\tValues are the sum of x and y.\n",
        "# Example:\n",
        "# { (1,2): 3, (3,4): 7, (5,6): 11 }\n",
        "# Write a function to retrieve the sum for a given coordinate.\n",
        "# ________________________________________\n",
        "\n",
        "dict1 = {(1,2) : 3, (3,4) : 7, (5,6) : 11}\n",
        "print(dict1)\n",
        "x = int(input(\"Enter the x co-ordinate :\"))\n",
        "y = int(input(\"Enter the y co-ordinate :\"))\n",
        "\n",
        "def retreive_sum(a,b):\n",
        "  for key,value in dict1.items():\n",
        "    if(key ==(x,y)):\n",
        "      print(value)\n",
        "\n",
        "retreive_sum(x,y)\n"
      ],
      "metadata": {
        "colab": {
          "base_uri": "https://localhost:8080/"
        },
        "id": "pi_wmxiUdzNE",
        "outputId": "e929562a-fc74-45f7-8062-fb9e4e5ca228"
      },
      "execution_count": null,
      "outputs": [
        {
          "output_type": "stream",
          "name": "stdout",
          "text": [
            "{(1, 2): 3, (3, 4): 7, (5, 6): 11}\n",
            "Enter the x co-ordinate :1\n",
            "Enter the y co-ordinate :2\n",
            "3\n"
          ]
        }
      ]
    },
    {
      "cell_type": "code",
      "source": [
        "# 5. Functions - Nested Functions\n",
        "# Write a function outer_function(a, b) that:\n",
        "# •\tContains an inner function to calculate a² + b².\n",
        "# •\tReturns the result.\n",
        "# Call outer_function(3, 4) and print the result.\n",
        "# ________________________________________\n",
        "def outer_function(a, b):\n",
        "    def inner_function():\n",
        "        return a**2 + b**2\n",
        "    return inner_function()\n",
        "\n",
        "print(outer_function(3, 4))"
      ],
      "metadata": {
        "colab": {
          "base_uri": "https://localhost:8080/"
        },
        "id": "8G8c8twhdzWt",
        "outputId": "314f61d0-79a8-45a1-d245-377a57f4d51c"
      },
      "execution_count": null,
      "outputs": [
        {
          "output_type": "stream",
          "name": "stdout",
          "text": [
            "25\n"
          ]
        }
      ]
    },
    {
      "cell_type": "code",
      "source": [
        "# 6. Functions - Lambda & Map\n",
        "# You are given a list:\n",
        "# numbers = [1, 2, 3, 4, 5]\n",
        "# Use a lambda function and map() to generate a list where each number is cubed.\n",
        "# ________________________________________\n",
        "numbers = [1,2,3,4,5]\n",
        "\n",
        "cubed_numbersL = list(map(lambda x: x**3,numbers))\n",
        "print(cubed_numbersL)\n"
      ],
      "metadata": {
        "colab": {
          "base_uri": "https://localhost:8080/"
        },
        "id": "yXgYfo0wdzgV",
        "outputId": "e2fc8a30-2e95-4f14-cbee-8bca389688f8"
      },
      "execution_count": null,
      "outputs": [
        {
          "output_type": "stream",
          "name": "stdout",
          "text": [
            "[1, 8, 27, 64, 125]\n"
          ]
        }
      ]
    },
    {
      "cell_type": "code",
      "source": [
        "# 7. Functions - Recursion\n",
        "# Write a recursive function to calculate the sum of digits of a given number.\n",
        "# Example:\n",
        "# Input: 1234\n",
        "# Output: 10  (1+2+3+4)\n",
        "# ________________________________________\n",
        "def sum(n):\n",
        "  if n == 0:\n",
        "    return 0\n",
        "  return n % 10 + sum(n // 10)\n",
        "\n",
        "n = int(input(\"Enter the number :\"))\n",
        "print(\"Sum of digits : \",sum(n))"
      ],
      "metadata": {
        "colab": {
          "base_uri": "https://localhost:8080/"
        },
        "id": "vAu0zXERdzrR",
        "outputId": "75c31c83-099b-414f-d09e-97749d9ae548"
      },
      "execution_count": null,
      "outputs": [
        {
          "output_type": "stream",
          "name": "stdout",
          "text": [
            "Enter the number :1234\n",
            "Sum of digits :  10\n"
          ]
        }
      ]
    },
    {
      "cell_type": "code",
      "source": [
        "# 8. List Comprehensions\n",
        "# Generate a list of all numbers between 1 and 100 that:\n",
        "# •\tAre divisible by 5\n",
        "# •\tBut not by 3\n",
        "# Use list comprehension.\n",
        "# ________________________________________\n",
        "\n",
        "list_comp = [x for x in range(101) if x % 5 == 0 and x % 3 != 0]\n",
        "print(list_comp)\n"
      ],
      "metadata": {
        "colab": {
          "base_uri": "https://localhost:8080/"
        },
        "id": "AMKHU2nydz1a",
        "outputId": "183ce23f-b9f5-4400-d7df-8f8d172b55e5"
      },
      "execution_count": null,
      "outputs": [
        {
          "output_type": "stream",
          "name": "stdout",
          "text": [
            "[5, 10, 20, 25, 35, 40, 50, 55, 65, 70, 80, 85, 95, 100]\n"
          ]
        }
      ]
    },
    {
      "cell_type": "code",
      "source": [
        "# 9. Dictionary - Sorting by Values\n",
        "# Given:\n",
        "# scores = {\"Alice\": 90, \"Bob\": 85, \"Eve\": 92}\n",
        "# Sort this dictionary by values in descending order and print the result.\n",
        "# ________________________________________\n",
        "scores = {\"Alice\" : 90,\"Bob\" : 85,\"Eve\" : 92}\n",
        "desc_order_scoresd = dict(sorted(scores.items(),key=lambda x:x[1],reverse=True))\n",
        "print(desc_order_scoresd)"
      ],
      "metadata": {
        "colab": {
          "base_uri": "https://localhost:8080/"
        },
        "id": "YODyKIWPdz_R",
        "outputId": "67504d0c-070a-4492-a48f-ded36b9f02b9"
      },
      "execution_count": null,
      "outputs": [
        {
          "output_type": "stream",
          "name": "stdout",
          "text": [
            "{'Eve': 92, 'Alice': 90, 'Bob': 85}\n"
          ]
        }
      ]
    },
    {
      "cell_type": "code",
      "source": [
        "# 10. Sets - Unique Characters\n",
        "# Write a Python function that takes a string as input and returns:\n",
        "# • A set of unique characters in the string.\n",
        "# • The number of unique characters.\n",
        "# Example:\n",
        "# Input: \"hello\"\n",
        "# Output: {'h', 'e', 'l', 'o'}, 4\n",
        "# ________________________________________\n",
        "\n",
        "str1 = \"hello\"\n",
        "str2 = set(str1)\n",
        "print(str2)"
      ],
      "metadata": {
        "id": "uTGaesg9d0Je",
        "colab": {
          "base_uri": "https://localhost:8080/"
        },
        "outputId": "cab373b3-1cb8-427d-ca8c-c251a2d540d7"
      },
      "execution_count": null,
      "outputs": [
        {
          "output_type": "stream",
          "name": "stdout",
          "text": [
            "{'h', 'e', 'l', 'o'}\n"
          ]
        }
      ]
    },
    {
      "cell_type": "code",
      "source": [
        "# 11. Tuples - Finding Common Elements\n",
        "# Given two tuples:\n",
        "# t1 = (1, 2, 3, 4, 5)\n",
        "# t2 = (4, 5, 6, 7, 8)\n",
        "# Find and print the common elements.\n",
        "# ________________________________________\n",
        "\n",
        "t1 = (1,2,3,4,5)\n",
        "t2 = (4,5,6,7,8)\n",
        "\n",
        "common = tuple(set(t1) & set(t2))\n",
        "print(common)\n"
      ],
      "metadata": {
        "id": "Q5nPa5Z_d0aI",
        "colab": {
          "base_uri": "https://localhost:8080/"
        },
        "outputId": "f590f45d-a8ba-4fbe-8c66-4fb7552622d0"
      },
      "execution_count": null,
      "outputs": [
        {
          "output_type": "stream",
          "name": "stdout",
          "text": [
            "(4, 5)\n"
          ]
        }
      ]
    },
    {
      "cell_type": "code",
      "source": [
        "# 12. Dictionary - Reverse Key-Value Mapping\n",
        "# Given a dictionary:\n",
        "# data = {\"A\": 1, \"B\": 2, \"C\": 3}\n",
        "# Write a program to swap keys and values:\n",
        "# Output: {1: \"A\", 2: \"B\", 3: \"C\"}\n",
        "# ________________________________________\n",
        "data = {\"A\":1,\"B\":2,\"C\":3}\n",
        "swapped_data = {j:i for i,j in data.items()}\n",
        "print(swapped_data)"
      ],
      "metadata": {
        "id": "_AKKOFbAd0mZ",
        "colab": {
          "base_uri": "https://localhost:8080/"
        },
        "outputId": "7d77809e-83bf-4501-f0b3-cbfb411a4e67"
      },
      "execution_count": null,
      "outputs": [
        {
          "output_type": "stream",
          "name": "stdout",
          "text": [
            "{1: 'A', 2: 'B', 3: 'C'}\n"
          ]
        }
      ]
    },
    {
      "cell_type": "code",
      "source": [
        "# 13. Functions - Multiple Return Values\n",
        "# Write a function that takes two numbers as input and returns:\n",
        "# 1.\tTheir sum\n",
        "# 2.\tTheir difference\n",
        "# 3.\tTheir product\n",
        "# 4.\tTheir quotient\n",
        "# Print all four results.\n",
        "# ________________________________________\n",
        "def calculator(a,b):\n",
        "  print(\"The sum is :\",a+b,\"\\nThe difference is :\",a-b,\"\\nThe product is :\",a*b,\"\\nThe quotient is :\", a//b)\n",
        "calculator(2,3)"
      ],
      "metadata": {
        "id": "r4GHFwyvd0wU",
        "colab": {
          "base_uri": "https://localhost:8080/"
        },
        "outputId": "a06b0112-be86-4da9-ecd8-021788410805"
      },
      "execution_count": null,
      "outputs": [
        {
          "output_type": "stream",
          "name": "stdout",
          "text": [
            "The sum is : 5 \n",
            "The difference is : -1 \n",
            "The product is : 6 \n",
            "The quotient is : 0\n"
          ]
        }
      ]
    },
    {
      "cell_type": "code",
      "source": [
        "P# 14. List - Finding Second Largest Number\n",
        "# Write a function to find the second largest number in a given list without using sort().\n",
        "# Example:\n",
        "# Input: [10, 20, 4, 45, 99]\n",
        "# Output: 45\n",
        "# ________________________________________\n",
        "\n",
        "listl = [10,20,4,45,99]\n",
        "listl.sort(reverse=True)\n",
        "print(listl[1])"
      ],
      "metadata": {
        "id": "3mGoxrHDd07f",
        "colab": {
          "base_uri": "https://localhost:8080/"
        },
        "outputId": "bcd96604-6485-4c58-8593-7ca0138c43a5"
      },
      "execution_count": null,
      "outputs": [
        {
          "output_type": "stream",
          "name": "stdout",
          "text": [
            "45\n"
          ]
        }
      ]
    },
    {
      "cell_type": "code",
      "source": [
        "# 15. List - Pair Sum Problem\n",
        "# Given a list of numbers and a target sum, find all pairs in the list that add up to the target.\n",
        "# Example:\n",
        "# Input: [2, 4, 3, 7, 1, 9], Target: 10\n",
        "# Output: [(3, 7), (1, 9)]\n",
        "# ________________________________________\n",
        "l = [2, 4, 3, 7, 1,9]\n",
        "tar = 10\n",
        "ans = []\n",
        "seen = set()\n",
        "\n",
        "for n in l:\n",
        "    second = tar - n\n",
        "    if second in seen:\n",
        "        ans.append((n, second))\n",
        "    seen.add(n)\n",
        "\n",
        "print(ans)"
      ],
      "metadata": {
        "id": "vKQm7k7wd1JB",
        "colab": {
          "base_uri": "https://localhost:8080/"
        },
        "outputId": "0a30a495-6f7c-435f-de74-99b17a4abb97"
      },
      "execution_count": null,
      "outputs": [
        {
          "output_type": "stream",
          "name": "stdout",
          "text": [
            "[(7, 3), (9, 1)]\n"
          ]
        }
      ]
    },
    {
      "cell_type": "code",
      "source": [
        "# Pandas & NumPy (5 Questions)\n",
        "# 16. Pandas - Filtering DataFrame\n",
        "# You are given the following Pandas DataFrame:\n",
        "# import pandas as pd\n",
        "# df = pd.DataFrame({\n",
        "#     \"Name\": [\"Alice\", \"Bob\", \"Charlie\", \"David\"],\n",
        "#     \"Age\": [24, 27, 22, 32],\n",
        "#     \"Score\": [85, 90, 78, 88]\n",
        "# })\n",
        "# Write a one-liner to filter and display only rows where Age is greater than 25.\n",
        "# ________________________________________\n",
        "import pandas as pd\n",
        "df = pd.DataFrame({\n",
        "    \"Name\": [\"Alice\", \"Bob\", \"Charlie\", \"David\"],\n",
        "    \"Age\": [24, 27, 22, 32],\n",
        "    \"Score\": [85, 90, 78, 88]\n",
        "})\n",
        "# print(df)\n",
        "df1 = df[df['Age'] >= 25]\n",
        "display(df1)\n"
      ],
      "metadata": {
        "id": "i1tp3t0qd1R5",
        "colab": {
          "base_uri": "https://localhost:8080/",
          "height": 125
        },
        "outputId": "b7fecd66-04e4-4fcf-8304-58416046d74b"
      },
      "execution_count": null,
      "outputs": [
        {
          "output_type": "display_data",
          "data": {
            "text/plain": [
              "    Name  Age  Score\n",
              "1    Bob   27     90\n",
              "3  David   32     88"
            ],
            "text/html": [
              "\n",
              "  <div id=\"df-bc1284ff-7266-40cc-b42d-af7c7c461659\" class=\"colab-df-container\">\n",
              "    <div>\n",
              "<style scoped>\n",
              "    .dataframe tbody tr th:only-of-type {\n",
              "        vertical-align: middle;\n",
              "    }\n",
              "\n",
              "    .dataframe tbody tr th {\n",
              "        vertical-align: top;\n",
              "    }\n",
              "\n",
              "    .dataframe thead th {\n",
              "        text-align: right;\n",
              "    }\n",
              "</style>\n",
              "<table border=\"1\" class=\"dataframe\">\n",
              "  <thead>\n",
              "    <tr style=\"text-align: right;\">\n",
              "      <th></th>\n",
              "      <th>Name</th>\n",
              "      <th>Age</th>\n",
              "      <th>Score</th>\n",
              "    </tr>\n",
              "  </thead>\n",
              "  <tbody>\n",
              "    <tr>\n",
              "      <th>1</th>\n",
              "      <td>Bob</td>\n",
              "      <td>27</td>\n",
              "      <td>90</td>\n",
              "    </tr>\n",
              "    <tr>\n",
              "      <th>3</th>\n",
              "      <td>David</td>\n",
              "      <td>32</td>\n",
              "      <td>88</td>\n",
              "    </tr>\n",
              "  </tbody>\n",
              "</table>\n",
              "</div>\n",
              "    <div class=\"colab-df-buttons\">\n",
              "\n",
              "  <div class=\"colab-df-container\">\n",
              "    <button class=\"colab-df-convert\" onclick=\"convertToInteractive('df-bc1284ff-7266-40cc-b42d-af7c7c461659')\"\n",
              "            title=\"Convert this dataframe to an interactive table.\"\n",
              "            style=\"display:none;\">\n",
              "\n",
              "  <svg xmlns=\"http://www.w3.org/2000/svg\" height=\"24px\" viewBox=\"0 -960 960 960\">\n",
              "    <path d=\"M120-120v-720h720v720H120Zm60-500h600v-160H180v160Zm220 220h160v-160H400v160Zm0 220h160v-160H400v160ZM180-400h160v-160H180v160Zm440 0h160v-160H620v160ZM180-180h160v-160H180v160Zm440 0h160v-160H620v160Z\"/>\n",
              "  </svg>\n",
              "    </button>\n",
              "\n",
              "  <style>\n",
              "    .colab-df-container {\n",
              "      display:flex;\n",
              "      gap: 12px;\n",
              "    }\n",
              "\n",
              "    .colab-df-convert {\n",
              "      background-color: #E8F0FE;\n",
              "      border: none;\n",
              "      border-radius: 50%;\n",
              "      cursor: pointer;\n",
              "      display: none;\n",
              "      fill: #1967D2;\n",
              "      height: 32px;\n",
              "      padding: 0 0 0 0;\n",
              "      width: 32px;\n",
              "    }\n",
              "\n",
              "    .colab-df-convert:hover {\n",
              "      background-color: #E2EBFA;\n",
              "      box-shadow: 0px 1px 2px rgba(60, 64, 67, 0.3), 0px 1px 3px 1px rgba(60, 64, 67, 0.15);\n",
              "      fill: #174EA6;\n",
              "    }\n",
              "\n",
              "    .colab-df-buttons div {\n",
              "      margin-bottom: 4px;\n",
              "    }\n",
              "\n",
              "    [theme=dark] .colab-df-convert {\n",
              "      background-color: #3B4455;\n",
              "      fill: #D2E3FC;\n",
              "    }\n",
              "\n",
              "    [theme=dark] .colab-df-convert:hover {\n",
              "      background-color: #434B5C;\n",
              "      box-shadow: 0px 1px 3px 1px rgba(0, 0, 0, 0.15);\n",
              "      filter: drop-shadow(0px 1px 2px rgba(0, 0, 0, 0.3));\n",
              "      fill: #FFFFFF;\n",
              "    }\n",
              "  </style>\n",
              "\n",
              "    <script>\n",
              "      const buttonEl =\n",
              "        document.querySelector('#df-bc1284ff-7266-40cc-b42d-af7c7c461659 button.colab-df-convert');\n",
              "      buttonEl.style.display =\n",
              "        google.colab.kernel.accessAllowed ? 'block' : 'none';\n",
              "\n",
              "      async function convertToInteractive(key) {\n",
              "        const element = document.querySelector('#df-bc1284ff-7266-40cc-b42d-af7c7c461659');\n",
              "        const dataTable =\n",
              "          await google.colab.kernel.invokeFunction('convertToInteractive',\n",
              "                                                    [key], {});\n",
              "        if (!dataTable) return;\n",
              "\n",
              "        const docLinkHtml = 'Like what you see? Visit the ' +\n",
              "          '<a target=\"_blank\" href=https://colab.research.google.com/notebooks/data_table.ipynb>data table notebook</a>'\n",
              "          + ' to learn more about interactive tables.';\n",
              "        element.innerHTML = '';\n",
              "        dataTable['output_type'] = 'display_data';\n",
              "        await google.colab.output.renderOutput(dataTable, element);\n",
              "        const docLink = document.createElement('div');\n",
              "        docLink.innerHTML = docLinkHtml;\n",
              "        element.appendChild(docLink);\n",
              "      }\n",
              "    </script>\n",
              "  </div>\n",
              "\n",
              "\n",
              "<div id=\"df-4ada2e67-f3da-47b8-9878-d5313408a078\">\n",
              "  <button class=\"colab-df-quickchart\" onclick=\"quickchart('df-4ada2e67-f3da-47b8-9878-d5313408a078')\"\n",
              "            title=\"Suggest charts\"\n",
              "            style=\"display:none;\">\n",
              "\n",
              "<svg xmlns=\"http://www.w3.org/2000/svg\" height=\"24px\"viewBox=\"0 0 24 24\"\n",
              "     width=\"24px\">\n",
              "    <g>\n",
              "        <path d=\"M19 3H5c-1.1 0-2 .9-2 2v14c0 1.1.9 2 2 2h14c1.1 0 2-.9 2-2V5c0-1.1-.9-2-2-2zM9 17H7v-7h2v7zm4 0h-2V7h2v10zm4 0h-2v-4h2v4z\"/>\n",
              "    </g>\n",
              "</svg>\n",
              "  </button>\n",
              "\n",
              "<style>\n",
              "  .colab-df-quickchart {\n",
              "      --bg-color: #E8F0FE;\n",
              "      --fill-color: #1967D2;\n",
              "      --hover-bg-color: #E2EBFA;\n",
              "      --hover-fill-color: #174EA6;\n",
              "      --disabled-fill-color: #AAA;\n",
              "      --disabled-bg-color: #DDD;\n",
              "  }\n",
              "\n",
              "  [theme=dark] .colab-df-quickchart {\n",
              "      --bg-color: #3B4455;\n",
              "      --fill-color: #D2E3FC;\n",
              "      --hover-bg-color: #434B5C;\n",
              "      --hover-fill-color: #FFFFFF;\n",
              "      --disabled-bg-color: #3B4455;\n",
              "      --disabled-fill-color: #666;\n",
              "  }\n",
              "\n",
              "  .colab-df-quickchart {\n",
              "    background-color: var(--bg-color);\n",
              "    border: none;\n",
              "    border-radius: 50%;\n",
              "    cursor: pointer;\n",
              "    display: none;\n",
              "    fill: var(--fill-color);\n",
              "    height: 32px;\n",
              "    padding: 0;\n",
              "    width: 32px;\n",
              "  }\n",
              "\n",
              "  .colab-df-quickchart:hover {\n",
              "    background-color: var(--hover-bg-color);\n",
              "    box-shadow: 0 1px 2px rgba(60, 64, 67, 0.3), 0 1px 3px 1px rgba(60, 64, 67, 0.15);\n",
              "    fill: var(--button-hover-fill-color);\n",
              "  }\n",
              "\n",
              "  .colab-df-quickchart-complete:disabled,\n",
              "  .colab-df-quickchart-complete:disabled:hover {\n",
              "    background-color: var(--disabled-bg-color);\n",
              "    fill: var(--disabled-fill-color);\n",
              "    box-shadow: none;\n",
              "  }\n",
              "\n",
              "  .colab-df-spinner {\n",
              "    border: 2px solid var(--fill-color);\n",
              "    border-color: transparent;\n",
              "    border-bottom-color: var(--fill-color);\n",
              "    animation:\n",
              "      spin 1s steps(1) infinite;\n",
              "  }\n",
              "\n",
              "  @keyframes spin {\n",
              "    0% {\n",
              "      border-color: transparent;\n",
              "      border-bottom-color: var(--fill-color);\n",
              "      border-left-color: var(--fill-color);\n",
              "    }\n",
              "    20% {\n",
              "      border-color: transparent;\n",
              "      border-left-color: var(--fill-color);\n",
              "      border-top-color: var(--fill-color);\n",
              "    }\n",
              "    30% {\n",
              "      border-color: transparent;\n",
              "      border-left-color: var(--fill-color);\n",
              "      border-top-color: var(--fill-color);\n",
              "      border-right-color: var(--fill-color);\n",
              "    }\n",
              "    40% {\n",
              "      border-color: transparent;\n",
              "      border-right-color: var(--fill-color);\n",
              "      border-top-color: var(--fill-color);\n",
              "    }\n",
              "    60% {\n",
              "      border-color: transparent;\n",
              "      border-right-color: var(--fill-color);\n",
              "    }\n",
              "    80% {\n",
              "      border-color: transparent;\n",
              "      border-right-color: var(--fill-color);\n",
              "      border-bottom-color: var(--fill-color);\n",
              "    }\n",
              "    90% {\n",
              "      border-color: transparent;\n",
              "      border-bottom-color: var(--fill-color);\n",
              "    }\n",
              "  }\n",
              "</style>\n",
              "\n",
              "  <script>\n",
              "    async function quickchart(key) {\n",
              "      const quickchartButtonEl =\n",
              "        document.querySelector('#' + key + ' button');\n",
              "      quickchartButtonEl.disabled = true;  // To prevent multiple clicks.\n",
              "      quickchartButtonEl.classList.add('colab-df-spinner');\n",
              "      try {\n",
              "        const charts = await google.colab.kernel.invokeFunction(\n",
              "            'suggestCharts', [key], {});\n",
              "      } catch (error) {\n",
              "        console.error('Error during call to suggestCharts:', error);\n",
              "      }\n",
              "      quickchartButtonEl.classList.remove('colab-df-spinner');\n",
              "      quickchartButtonEl.classList.add('colab-df-quickchart-complete');\n",
              "    }\n",
              "    (() => {\n",
              "      let quickchartButtonEl =\n",
              "        document.querySelector('#df-4ada2e67-f3da-47b8-9878-d5313408a078 button');\n",
              "      quickchartButtonEl.style.display =\n",
              "        google.colab.kernel.accessAllowed ? 'block' : 'none';\n",
              "    })();\n",
              "  </script>\n",
              "</div>\n",
              "\n",
              "  <div id=\"id_b90d8934-9545-4b1b-8b9c-63409603c6cf\">\n",
              "    <style>\n",
              "      .colab-df-generate {\n",
              "        background-color: #E8F0FE;\n",
              "        border: none;\n",
              "        border-radius: 50%;\n",
              "        cursor: pointer;\n",
              "        display: none;\n",
              "        fill: #1967D2;\n",
              "        height: 32px;\n",
              "        padding: 0 0 0 0;\n",
              "        width: 32px;\n",
              "      }\n",
              "\n",
              "      .colab-df-generate:hover {\n",
              "        background-color: #E2EBFA;\n",
              "        box-shadow: 0px 1px 2px rgba(60, 64, 67, 0.3), 0px 1px 3px 1px rgba(60, 64, 67, 0.15);\n",
              "        fill: #174EA6;\n",
              "      }\n",
              "\n",
              "      [theme=dark] .colab-df-generate {\n",
              "        background-color: #3B4455;\n",
              "        fill: #D2E3FC;\n",
              "      }\n",
              "\n",
              "      [theme=dark] .colab-df-generate:hover {\n",
              "        background-color: #434B5C;\n",
              "        box-shadow: 0px 1px 3px 1px rgba(0, 0, 0, 0.15);\n",
              "        filter: drop-shadow(0px 1px 2px rgba(0, 0, 0, 0.3));\n",
              "        fill: #FFFFFF;\n",
              "      }\n",
              "    </style>\n",
              "    <button class=\"colab-df-generate\" onclick=\"generateWithVariable('df1')\"\n",
              "            title=\"Generate code using this dataframe.\"\n",
              "            style=\"display:none;\">\n",
              "\n",
              "  <svg xmlns=\"http://www.w3.org/2000/svg\" height=\"24px\"viewBox=\"0 0 24 24\"\n",
              "       width=\"24px\">\n",
              "    <path d=\"M7,19H8.4L18.45,9,17,7.55,7,17.6ZM5,21V16.75L18.45,3.32a2,2,0,0,1,2.83,0l1.4,1.43a1.91,1.91,0,0,1,.58,1.4,1.91,1.91,0,0,1-.58,1.4L9.25,21ZM18.45,9,17,7.55Zm-12,3A5.31,5.31,0,0,0,4.9,8.1,5.31,5.31,0,0,0,1,6.5,5.31,5.31,0,0,0,4.9,4.9,5.31,5.31,0,0,0,6.5,1,5.31,5.31,0,0,0,8.1,4.9,5.31,5.31,0,0,0,12,6.5,5.46,5.46,0,0,0,6.5,12Z\"/>\n",
              "  </svg>\n",
              "    </button>\n",
              "    <script>\n",
              "      (() => {\n",
              "      const buttonEl =\n",
              "        document.querySelector('#id_b90d8934-9545-4b1b-8b9c-63409603c6cf button.colab-df-generate');\n",
              "      buttonEl.style.display =\n",
              "        google.colab.kernel.accessAllowed ? 'block' : 'none';\n",
              "\n",
              "      buttonEl.onclick = () => {\n",
              "        google.colab.notebook.generateWithVariable('df1');\n",
              "      }\n",
              "      })();\n",
              "    </script>\n",
              "  </div>\n",
              "\n",
              "    </div>\n",
              "  </div>\n"
            ],
            "application/vnd.google.colaboratory.intrinsic+json": {
              "type": "dataframe",
              "variable_name": "df1",
              "summary": "{\n  \"name\": \"df1\",\n  \"rows\": 2,\n  \"fields\": [\n    {\n      \"column\": \"Name\",\n      \"properties\": {\n        \"dtype\": \"string\",\n        \"num_unique_values\": 2,\n        \"samples\": [\n          \"David\",\n          \"Bob\"\n        ],\n        \"semantic_type\": \"\",\n        \"description\": \"\"\n      }\n    },\n    {\n      \"column\": \"Age\",\n      \"properties\": {\n        \"dtype\": \"number\",\n        \"std\": 3,\n        \"min\": 27,\n        \"max\": 32,\n        \"num_unique_values\": 2,\n        \"samples\": [\n          32,\n          27\n        ],\n        \"semantic_type\": \"\",\n        \"description\": \"\"\n      }\n    },\n    {\n      \"column\": \"Score\",\n      \"properties\": {\n        \"dtype\": \"number\",\n        \"std\": 1,\n        \"min\": 88,\n        \"max\": 90,\n        \"num_unique_values\": 2,\n        \"samples\": [\n          88,\n          90\n        ],\n        \"semantic_type\": \"\",\n        \"description\": \"\"\n      }\n    }\n  ]\n}"
            }
          },
          "metadata": {}
        }
      ]
    },
    {
      "cell_type": "code",
      "source": [
        "# 17. Pandas - Group By Operation\n",
        "# You have the following DataFrame:\n",
        "# df = pd.DataFrame({\n",
        "#     \"Department\": [\"IT\", \"HR\", \"IT\", \"Finance\", \"HR\"],\n",
        "#     \"Salary\": [70000, 50000, 80000, 60000, 52000]\n",
        "# })\n",
        "# Write a Pandas command to calculate the average salary per department.\n",
        "# ________________________________________\n",
        "df = pd.DataFrame({\n",
        "    \"Department\": [\"IT\", \"HR\", \"IT\", \"Finance\", \"HR\"],\n",
        "    \"Salary\": [70000, 50000, 80000, 60000, 52000]\n",
        "})\n",
        "df[\"Salary\"].mean()\n"
      ],
      "metadata": {
        "id": "ty35O6Xrd1eI",
        "colab": {
          "base_uri": "https://localhost:8080/"
        },
        "outputId": "06b8ab85-c4ba-4af9-df00-e9b5271fef98"
      },
      "execution_count": null,
      "outputs": [
        {
          "output_type": "execute_result",
          "data": {
            "text/plain": [
              "62400.0"
            ]
          },
          "metadata": {},
          "execution_count": 57
        }
      ]
    },
    {
      "cell_type": "code",
      "source": [
        "# 18. NumPy - Create a 5x5 Matrix\n",
        "# Write a program to create a 5x5 NumPy matrix where:\n",
        "# •\tThe diagonal elements are 1\n",
        "# •\tAll other elements are 0\n",
        "# Example:\n",
        "# Output:\n",
        "# [[1 0 0 0 0]\n",
        "#  [0 1 0 0 0]\n",
        "#  [0 0 1 0 0]\n",
        "#  [0 0 0 1 0]\n",
        "#  [0 0 0 0 1]]\n",
        "# ________________________________________\n",
        "import numpy as np\n",
        "# print(np.diag(np.ones(4), 1) )\n",
        "array = np.zeros((5, 5), int)\n",
        "np.fill_diagonal(array, 1)\n",
        "\n",
        "print(array)\n"
      ],
      "metadata": {
        "id": "f9xtk7oNd1pT",
        "colab": {
          "base_uri": "https://localhost:8080/"
        },
        "outputId": "6e69540d-e7f4-4b22-d335-358df9312275"
      },
      "execution_count": null,
      "outputs": [
        {
          "output_type": "stream",
          "name": "stdout",
          "text": [
            "[[1 0 0 0 0]\n",
            " [0 1 0 0 0]\n",
            " [0 0 1 0 0]\n",
            " [0 0 0 1 0]\n",
            " [0 0 0 0 1]]\n"
          ]
        }
      ]
    },
    {
      "cell_type": "code",
      "source": [
        "# 19. NumPy - Element-wise Operations\n",
        "# Given two NumPy arrays:\n",
        "# import numpy as np\n",
        "# a = np.array([1, 2, 3, 4])\n",
        "# b = np.array([10, 20, 30, 40])\n",
        "# Perform element-wise:\n",
        "# 1.\tAddition\n",
        "# 2.\tMultiplication\n",
        "# 3.\tPower (a^b)\n",
        "# Print the results.\n",
        "# ________________________________________\n",
        "import numpy as np\n",
        "a = np.array([1, 2, 3, 4])\n",
        "b = np.array([10, 20, 30, 40])\n",
        "\n",
        "add_ans= np.add(a,b)\n",
        "mul_ans = np.multiply(a,b)\n",
        "pow_ans = np.power(a,b)\n",
        "print( 'Addition :',add_ans,'\\nMultiplication :',mul_ans,'\\nPower : ',pow_ans)"
      ],
      "metadata": {
        "id": "aFMa5nUhd148",
        "colab": {
          "base_uri": "https://localhost:8080/"
        },
        "outputId": "c3f14613-34e3-4329-d709-5497fb1dfd8f"
      },
      "execution_count": null,
      "outputs": [
        {
          "output_type": "stream",
          "name": "stdout",
          "text": [
            "Addition : [11 22 33 44] \n",
            "Multiplication : [ 10  40  90 160] \n",
            "Power :  [              1         1048576 205891132094649               0]\n"
          ]
        }
      ]
    },
    {
      "cell_type": "code",
      "source": [
        "# 20. NumPy - Find Index of Maximum Value\n",
        "# Given:\n",
        "# arr = np.array([10, 25, 39, 50, 19])\n",
        "# Write a one-liner to find the index of the maximum value.\n",
        "# ________________________________________\n",
        "arr = np.array([10, 25, 39, 50, 19])\n",
        "print(arr.argmax())"
      ],
      "metadata": {
        "id": "Gb_1A1lEd2FM",
        "colab": {
          "base_uri": "https://localhost:8080/"
        },
        "outputId": "65a2901c-68ce-4fd1-d302-48349f3d6497"
      },
      "execution_count": null,
      "outputs": [
        {
          "output_type": "stream",
          "name": "stdout",
          "text": [
            "3\n"
          ]
        }
      ]
    }
  ]
}