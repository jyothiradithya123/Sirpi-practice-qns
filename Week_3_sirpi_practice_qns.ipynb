{
  "nbformat": 4,
  "nbformat_minor": 0,
  "metadata": {
    "colab": {
      "provenance": [],
      "authorship_tag": "ABX9TyN7HV/lzmTWY0sLlGSr9fGT",
      "include_colab_link": true
    },
    "kernelspec": {
      "name": "python3",
      "display_name": "Python 3"
    },
    "language_info": {
      "name": "python"
    }
  },
  "cells": [
    {
      "cell_type": "markdown",
      "metadata": {
        "id": "view-in-github",
        "colab_type": "text"
      },
      "source": [
        "<a href=\"https://colab.research.google.com/github/jyothiradithya123/Sirpi-practice-qns/blob/main/Week_3_sirpi_practice_qns.ipynb\" target=\"_parent\"><img src=\"https://colab.research.google.com/assets/colab-badge.svg\" alt=\"Open In Colab\"/></a>"
      ]
    },
    {
      "cell_type": "code",
      "execution_count": null,
      "metadata": {
        "colab": {
          "base_uri": "https://localhost:8080/"
        },
        "id": "rcDuO51zlboC",
        "outputId": "b355d372-f0ac-43cd-8e97-96e0e0f4eeaf"
      },
      "outputs": [
        {
          "output_type": "stream",
          "name": "stdout",
          "text": [
            "<class 'pandas.core.frame.DataFrame'>\n",
            "RangeIndex: 201 entries, 0 to 200\n",
            "Data columns (total 26 columns):\n",
            " #   Column               Non-Null Count  Dtype  \n",
            "---  ------               --------------  -----  \n",
            " 0   symboling            201 non-null    int64  \n",
            " 1   normalized_losses    201 non-null    int64  \n",
            " 2   make                 201 non-null    object \n",
            " 3   fuel_type            201 non-null    object \n",
            " 4   aspiration           201 non-null    object \n",
            " 5   number_of_doors      201 non-null    object \n",
            " 6   body_style           201 non-null    object \n",
            " 7   drive_wheels         201 non-null    object \n",
            " 8   engine_location      201 non-null    object \n",
            " 9   wheel_base           201 non-null    float64\n",
            " 10  length               201 non-null    float64\n",
            " 11  width                201 non-null    float64\n",
            " 12  height               201 non-null    float64\n",
            " 13  curb_weight          201 non-null    int64  \n",
            " 14  engine_type          201 non-null    object \n",
            " 15  number_of_cylinders  201 non-null    object \n",
            " 16  engine_size          201 non-null    int64  \n",
            " 17  fuel_system          201 non-null    object \n",
            " 18  bore                 201 non-null    float64\n",
            " 19  stroke               201 non-null    float64\n",
            " 20  compression_ratio    201 non-null    float64\n",
            " 21  horsepower           201 non-null    int64  \n",
            " 22  peak_rpm             201 non-null    int64  \n",
            " 23  city_mpg             201 non-null    int64  \n",
            " 24  highway_mpg          201 non-null    int64  \n",
            " 25  price                201 non-null    int64  \n",
            "dtypes: float64(7), int64(9), object(10)\n",
            "memory usage: 41.0+ KB\n",
            "highway_mpg is greater and its better\n"
          ]
        },
        {
          "output_type": "execute_result",
          "data": {
            "text/plain": [
              "32"
            ]
          },
          "metadata": {},
          "execution_count": 19
        }
      ],
      "source": [
        "# 1. Loading a CSV File & Basic Exploration\n",
        "# Given a CSV file named \"Automobile.csv\":\n",
        "# Task\n",
        "# Write Python code to:\n",
        "# •\tLoad the CSV file into a Pandas DataFrame.\n",
        "# •\tDisplay the first 30 rows.\n",
        "# •\tPrint column names.\n",
        "# •\tPrint No of Rows & Columns\n",
        "# •\tFind the Data Types of every column & check if there are any mismatch\n",
        "# •\tWhat are the minimum & maximum price of the car & state fuel type they belong to\n",
        "# •\tList all the unique engine types\n",
        "# •\tFind the horsepower range\n",
        "# •\tWhat is the average mpg in cities & highway. Which is better?\n",
        "# •\tWhat are the different Automobile makes present & which has maximum count?\n",
        "# ________________________________________\n",
        "import pandas as pd\n",
        "\n",
        "automobile = pd.read_csv('/Automobile.csv')\n",
        "# automobile\n",
        "automobile_df = pd.DataFrame(automobile)\n",
        "automobile_df.head(30)\n",
        "automobile_df.columns\n",
        "automobile_df.shape\n",
        "automobile_df.info()\n",
        "automobile_df['price'].max()\n",
        "automobile_df['engine_type'].unique()\n",
        "horsepower_range = automobile_df['horsepower'].max() - automobile_df['horsepower'].min()\n",
        "horsepower_range\n",
        "city_mpg_avg = automobile_df['city_mpg'].mean()\n",
        "highway_mpg_avg = automobile_df['highway_mpg'].mean()\n",
        "if(city_mpg_avg > highway_mpg_avg):\n",
        "  print('city_mpg_avg is greater and its better')\n",
        "else:\n",
        "  print('highway_mpg is greater and its better')\n",
        "\n",
        "# automobile_df\n",
        "\n",
        "automobile_df['make'].value_counts()\n",
        "automobile_df['make'].value_counts().max()\n",
        "\n",
        "\n",
        "\n",
        "# automobile.tail()\n",
        "# automobile.describe()\n",
        "# automobile.info()\n",
        "# automobile.shape\n"
      ]
    },
    {
      "cell_type": "code",
      "source": [
        "# 2. Accessing Data with .loc[]\n",
        "# Using the following DataFrame:\n",
        "# df = pd.DataFrame({\n",
        "#     \"Name\": [\"Alice\", \"Bob\", \"Charlie\", \"David\"],\n",
        "#     \"Age\": [24, 27, 22, 32],\n",
        "#     \"Score\": [85, 90, 78, 88]\n",
        "# })\n",
        "# Task\n",
        "# •\tRetrieve the row where Name == \"Charlie\" using .loc[].\n",
        "# •\tSelect only the Age and Score columns for \"Alice\" and \"Bob\" using .loc[].\n",
        "# ________________________________________\n",
        "\n",
        "df = pd.DataFrame({\n",
        "    \"Name\": [\"Alice\", \"Bob\", \"Charlie\", \"David\"],\n",
        "    \"Age\": [24, 27, 22, 32],\n",
        "    \"Score\": [85, 90, 78, 88]\n",
        "})\n",
        "\n",
        "df[df['Name'] == 'Charlie']\n",
        "df.loc[df['Name'] == 'Charlie']\n",
        "\n",
        "df.loc[(df['Name'] == 'Alice') |(df['Name'] == 'Bob')]\n"
      ],
      "metadata": {
        "id": "gpsscnMYn45g",
        "colab": {
          "base_uri": "https://localhost:8080/",
          "height": 112
        },
        "outputId": "4e7b27a4-531f-4a2d-b823-cda49b7b7602"
      },
      "execution_count": null,
      "outputs": [
        {
          "output_type": "execute_result",
          "data": {
            "text/plain": [
              "    Name  Age  Score\n",
              "0  Alice   24     85\n",
              "1    Bob   27     90"
            ],
            "text/html": [
              "\n",
              "  <div id=\"df-cc7608c9-b4a7-4f5e-a9e1-bacfb04e7d64\" class=\"colab-df-container\">\n",
              "    <div>\n",
              "<style scoped>\n",
              "    .dataframe tbody tr th:only-of-type {\n",
              "        vertical-align: middle;\n",
              "    }\n",
              "\n",
              "    .dataframe tbody tr th {\n",
              "        vertical-align: top;\n",
              "    }\n",
              "\n",
              "    .dataframe thead th {\n",
              "        text-align: right;\n",
              "    }\n",
              "</style>\n",
              "<table border=\"1\" class=\"dataframe\">\n",
              "  <thead>\n",
              "    <tr style=\"text-align: right;\">\n",
              "      <th></th>\n",
              "      <th>Name</th>\n",
              "      <th>Age</th>\n",
              "      <th>Score</th>\n",
              "    </tr>\n",
              "  </thead>\n",
              "  <tbody>\n",
              "    <tr>\n",
              "      <th>0</th>\n",
              "      <td>Alice</td>\n",
              "      <td>24</td>\n",
              "      <td>85</td>\n",
              "    </tr>\n",
              "    <tr>\n",
              "      <th>1</th>\n",
              "      <td>Bob</td>\n",
              "      <td>27</td>\n",
              "      <td>90</td>\n",
              "    </tr>\n",
              "  </tbody>\n",
              "</table>\n",
              "</div>\n",
              "    <div class=\"colab-df-buttons\">\n",
              "\n",
              "  <div class=\"colab-df-container\">\n",
              "    <button class=\"colab-df-convert\" onclick=\"convertToInteractive('df-cc7608c9-b4a7-4f5e-a9e1-bacfb04e7d64')\"\n",
              "            title=\"Convert this dataframe to an interactive table.\"\n",
              "            style=\"display:none;\">\n",
              "\n",
              "  <svg xmlns=\"http://www.w3.org/2000/svg\" height=\"24px\" viewBox=\"0 -960 960 960\">\n",
              "    <path d=\"M120-120v-720h720v720H120Zm60-500h600v-160H180v160Zm220 220h160v-160H400v160Zm0 220h160v-160H400v160ZM180-400h160v-160H180v160Zm440 0h160v-160H620v160ZM180-180h160v-160H180v160Zm440 0h160v-160H620v160Z\"/>\n",
              "  </svg>\n",
              "    </button>\n",
              "\n",
              "  <style>\n",
              "    .colab-df-container {\n",
              "      display:flex;\n",
              "      gap: 12px;\n",
              "    }\n",
              "\n",
              "    .colab-df-convert {\n",
              "      background-color: #E8F0FE;\n",
              "      border: none;\n",
              "      border-radius: 50%;\n",
              "      cursor: pointer;\n",
              "      display: none;\n",
              "      fill: #1967D2;\n",
              "      height: 32px;\n",
              "      padding: 0 0 0 0;\n",
              "      width: 32px;\n",
              "    }\n",
              "\n",
              "    .colab-df-convert:hover {\n",
              "      background-color: #E2EBFA;\n",
              "      box-shadow: 0px 1px 2px rgba(60, 64, 67, 0.3), 0px 1px 3px 1px rgba(60, 64, 67, 0.15);\n",
              "      fill: #174EA6;\n",
              "    }\n",
              "\n",
              "    .colab-df-buttons div {\n",
              "      margin-bottom: 4px;\n",
              "    }\n",
              "\n",
              "    [theme=dark] .colab-df-convert {\n",
              "      background-color: #3B4455;\n",
              "      fill: #D2E3FC;\n",
              "    }\n",
              "\n",
              "    [theme=dark] .colab-df-convert:hover {\n",
              "      background-color: #434B5C;\n",
              "      box-shadow: 0px 1px 3px 1px rgba(0, 0, 0, 0.15);\n",
              "      filter: drop-shadow(0px 1px 2px rgba(0, 0, 0, 0.3));\n",
              "      fill: #FFFFFF;\n",
              "    }\n",
              "  </style>\n",
              "\n",
              "    <script>\n",
              "      const buttonEl =\n",
              "        document.querySelector('#df-cc7608c9-b4a7-4f5e-a9e1-bacfb04e7d64 button.colab-df-convert');\n",
              "      buttonEl.style.display =\n",
              "        google.colab.kernel.accessAllowed ? 'block' : 'none';\n",
              "\n",
              "      async function convertToInteractive(key) {\n",
              "        const element = document.querySelector('#df-cc7608c9-b4a7-4f5e-a9e1-bacfb04e7d64');\n",
              "        const dataTable =\n",
              "          await google.colab.kernel.invokeFunction('convertToInteractive',\n",
              "                                                    [key], {});\n",
              "        if (!dataTable) return;\n",
              "\n",
              "        const docLinkHtml = 'Like what you see? Visit the ' +\n",
              "          '<a target=\"_blank\" href=https://colab.research.google.com/notebooks/data_table.ipynb>data table notebook</a>'\n",
              "          + ' to learn more about interactive tables.';\n",
              "        element.innerHTML = '';\n",
              "        dataTable['output_type'] = 'display_data';\n",
              "        await google.colab.output.renderOutput(dataTable, element);\n",
              "        const docLink = document.createElement('div');\n",
              "        docLink.innerHTML = docLinkHtml;\n",
              "        element.appendChild(docLink);\n",
              "      }\n",
              "    </script>\n",
              "  </div>\n",
              "\n",
              "\n",
              "<div id=\"df-46990453-75dc-49dc-b291-11074086d385\">\n",
              "  <button class=\"colab-df-quickchart\" onclick=\"quickchart('df-46990453-75dc-49dc-b291-11074086d385')\"\n",
              "            title=\"Suggest charts\"\n",
              "            style=\"display:none;\">\n",
              "\n",
              "<svg xmlns=\"http://www.w3.org/2000/svg\" height=\"24px\"viewBox=\"0 0 24 24\"\n",
              "     width=\"24px\">\n",
              "    <g>\n",
              "        <path d=\"M19 3H5c-1.1 0-2 .9-2 2v14c0 1.1.9 2 2 2h14c1.1 0 2-.9 2-2V5c0-1.1-.9-2-2-2zM9 17H7v-7h2v7zm4 0h-2V7h2v10zm4 0h-2v-4h2v4z\"/>\n",
              "    </g>\n",
              "</svg>\n",
              "  </button>\n",
              "\n",
              "<style>\n",
              "  .colab-df-quickchart {\n",
              "      --bg-color: #E8F0FE;\n",
              "      --fill-color: #1967D2;\n",
              "      --hover-bg-color: #E2EBFA;\n",
              "      --hover-fill-color: #174EA6;\n",
              "      --disabled-fill-color: #AAA;\n",
              "      --disabled-bg-color: #DDD;\n",
              "  }\n",
              "\n",
              "  [theme=dark] .colab-df-quickchart {\n",
              "      --bg-color: #3B4455;\n",
              "      --fill-color: #D2E3FC;\n",
              "      --hover-bg-color: #434B5C;\n",
              "      --hover-fill-color: #FFFFFF;\n",
              "      --disabled-bg-color: #3B4455;\n",
              "      --disabled-fill-color: #666;\n",
              "  }\n",
              "\n",
              "  .colab-df-quickchart {\n",
              "    background-color: var(--bg-color);\n",
              "    border: none;\n",
              "    border-radius: 50%;\n",
              "    cursor: pointer;\n",
              "    display: none;\n",
              "    fill: var(--fill-color);\n",
              "    height: 32px;\n",
              "    padding: 0;\n",
              "    width: 32px;\n",
              "  }\n",
              "\n",
              "  .colab-df-quickchart:hover {\n",
              "    background-color: var(--hover-bg-color);\n",
              "    box-shadow: 0 1px 2px rgba(60, 64, 67, 0.3), 0 1px 3px 1px rgba(60, 64, 67, 0.15);\n",
              "    fill: var(--button-hover-fill-color);\n",
              "  }\n",
              "\n",
              "  .colab-df-quickchart-complete:disabled,\n",
              "  .colab-df-quickchart-complete:disabled:hover {\n",
              "    background-color: var(--disabled-bg-color);\n",
              "    fill: var(--disabled-fill-color);\n",
              "    box-shadow: none;\n",
              "  }\n",
              "\n",
              "  .colab-df-spinner {\n",
              "    border: 2px solid var(--fill-color);\n",
              "    border-color: transparent;\n",
              "    border-bottom-color: var(--fill-color);\n",
              "    animation:\n",
              "      spin 1s steps(1) infinite;\n",
              "  }\n",
              "\n",
              "  @keyframes spin {\n",
              "    0% {\n",
              "      border-color: transparent;\n",
              "      border-bottom-color: var(--fill-color);\n",
              "      border-left-color: var(--fill-color);\n",
              "    }\n",
              "    20% {\n",
              "      border-color: transparent;\n",
              "      border-left-color: var(--fill-color);\n",
              "      border-top-color: var(--fill-color);\n",
              "    }\n",
              "    30% {\n",
              "      border-color: transparent;\n",
              "      border-left-color: var(--fill-color);\n",
              "      border-top-color: var(--fill-color);\n",
              "      border-right-color: var(--fill-color);\n",
              "    }\n",
              "    40% {\n",
              "      border-color: transparent;\n",
              "      border-right-color: var(--fill-color);\n",
              "      border-top-color: var(--fill-color);\n",
              "    }\n",
              "    60% {\n",
              "      border-color: transparent;\n",
              "      border-right-color: var(--fill-color);\n",
              "    }\n",
              "    80% {\n",
              "      border-color: transparent;\n",
              "      border-right-color: var(--fill-color);\n",
              "      border-bottom-color: var(--fill-color);\n",
              "    }\n",
              "    90% {\n",
              "      border-color: transparent;\n",
              "      border-bottom-color: var(--fill-color);\n",
              "    }\n",
              "  }\n",
              "</style>\n",
              "\n",
              "  <script>\n",
              "    async function quickchart(key) {\n",
              "      const quickchartButtonEl =\n",
              "        document.querySelector('#' + key + ' button');\n",
              "      quickchartButtonEl.disabled = true;  // To prevent multiple clicks.\n",
              "      quickchartButtonEl.classList.add('colab-df-spinner');\n",
              "      try {\n",
              "        const charts = await google.colab.kernel.invokeFunction(\n",
              "            'suggestCharts', [key], {});\n",
              "      } catch (error) {\n",
              "        console.error('Error during call to suggestCharts:', error);\n",
              "      }\n",
              "      quickchartButtonEl.classList.remove('colab-df-spinner');\n",
              "      quickchartButtonEl.classList.add('colab-df-quickchart-complete');\n",
              "    }\n",
              "    (() => {\n",
              "      let quickchartButtonEl =\n",
              "        document.querySelector('#df-46990453-75dc-49dc-b291-11074086d385 button');\n",
              "      quickchartButtonEl.style.display =\n",
              "        google.colab.kernel.accessAllowed ? 'block' : 'none';\n",
              "    })();\n",
              "  </script>\n",
              "</div>\n",
              "\n",
              "    </div>\n",
              "  </div>\n"
            ],
            "application/vnd.google.colaboratory.intrinsic+json": {
              "type": "dataframe",
              "summary": "{\n  \"name\": \"df\",\n  \"rows\": 2,\n  \"fields\": [\n    {\n      \"column\": \"Name\",\n      \"properties\": {\n        \"dtype\": \"string\",\n        \"num_unique_values\": 2,\n        \"samples\": [\n          \"Bob\",\n          \"Alice\"\n        ],\n        \"semantic_type\": \"\",\n        \"description\": \"\"\n      }\n    },\n    {\n      \"column\": \"Age\",\n      \"properties\": {\n        \"dtype\": \"number\",\n        \"std\": 2,\n        \"min\": 24,\n        \"max\": 27,\n        \"num_unique_values\": 2,\n        \"samples\": [\n          27,\n          24\n        ],\n        \"semantic_type\": \"\",\n        \"description\": \"\"\n      }\n    },\n    {\n      \"column\": \"Score\",\n      \"properties\": {\n        \"dtype\": \"number\",\n        \"std\": 3,\n        \"min\": 85,\n        \"max\": 90,\n        \"num_unique_values\": 2,\n        \"samples\": [\n          90,\n          85\n        ],\n        \"semantic_type\": \"\",\n        \"description\": \"\"\n      }\n    }\n  ]\n}"
            }
          },
          "metadata": {},
          "execution_count": 30
        }
      ]
    },
    {
      "cell_type": "code",
      "source": [
        "# 3. Accessing Data with .iloc[]\n",
        "# Using the same DataFrame from Question 2, write code to:\n",
        "# •\tRetrieve the second row using .iloc[].\n",
        "# •\tExtract the last two rows using .iloc[].\n",
        "# ________________________________________\n",
        "df.iloc[1]\n",
        "df.iloc[3]"
      ],
      "metadata": {
        "id": "Ye5vkreVn5Ix",
        "colab": {
          "base_uri": "https://localhost:8080/",
          "height": 178
        },
        "outputId": "6bdda38f-e698-4f9d-a6ce-123b1b2a3ede"
      },
      "execution_count": null,
      "outputs": [
        {
          "output_type": "execute_result",
          "data": {
            "text/plain": [
              "Name     David\n",
              "Age         32\n",
              "Score       88\n",
              "Name: 3, dtype: object"
            ],
            "text/html": [
              "<div>\n",
              "<style scoped>\n",
              "    .dataframe tbody tr th:only-of-type {\n",
              "        vertical-align: middle;\n",
              "    }\n",
              "\n",
              "    .dataframe tbody tr th {\n",
              "        vertical-align: top;\n",
              "    }\n",
              "\n",
              "    .dataframe thead th {\n",
              "        text-align: right;\n",
              "    }\n",
              "</style>\n",
              "<table border=\"1\" class=\"dataframe\">\n",
              "  <thead>\n",
              "    <tr style=\"text-align: right;\">\n",
              "      <th></th>\n",
              "      <th>3</th>\n",
              "    </tr>\n",
              "  </thead>\n",
              "  <tbody>\n",
              "    <tr>\n",
              "      <th>Name</th>\n",
              "      <td>David</td>\n",
              "    </tr>\n",
              "    <tr>\n",
              "      <th>Age</th>\n",
              "      <td>32</td>\n",
              "    </tr>\n",
              "    <tr>\n",
              "      <th>Score</th>\n",
              "      <td>88</td>\n",
              "    </tr>\n",
              "  </tbody>\n",
              "</table>\n",
              "</div><br><label><b>dtype:</b> object</label>"
            ]
          },
          "metadata": {},
          "execution_count": 34
        }
      ]
    },
    {
      "cell_type": "code",
      "source": [
        "# 4. Filtering Rows Based on Conditions\n",
        "# Using the following DataFrame:\n",
        "# df = pd.DataFrame({\n",
        "#     \"Employee\": [\"John\", \"Alice\", \"Bob\", \"David\"],\n",
        "#     \"Salary\": [50000, 60000, 55000, 65000],\n",
        "#     \"Department\": [\"IT\", \"HR\", \"IT\", \"Finance\"]\n",
        "# })\n",
        "# Task\n",
        "# Write a Pandas command to:\n",
        "# •\tSelect only IT employees.\n",
        "# •\tSelect employees with a salary greater than 55,000.\n",
        "# ________________________________________"
      ],
      "metadata": {
        "id": "-PbUC8tMn5UQ"
      },
      "execution_count": null,
      "outputs": []
    },
    {
      "cell_type": "code",
      "source": [
        "\n",
        "\n",
        "# 5. Applying Functions to a Column\n",
        "# Using the following DataFrame:\n",
        "# df = pd.DataFrame({\n",
        "#     \"Student\": [\"A\", \"B\", \"C\", \"D\"],\n",
        "#     \"Marks\": [45, 78, 62, 90]\n",
        "# })\n",
        "# Task\n",
        "# Write a function that:\n",
        "# •\tConverts marks below 50 to \"Fail\", and 50 or above to \"Pass\".\n",
        "# •\tApply this function to the \"Marks\" column and create a new column \"Result\".\n",
        "# ________________________________________"
      ],
      "metadata": {
        "id": "zFRCtmnSn5fN"
      },
      "execution_count": null,
      "outputs": []
    },
    {
      "cell_type": "code",
      "source": [
        "\n",
        "# 6. NumPy - Creating and Reshaping Arrays\n",
        "# Write Python code to:\n",
        "# •\tCreate a NumPy array with values from 1 to 12.\n",
        "# •\tReshape it into a 3x4 matrix.\n",
        "# ________________________________________"
      ],
      "metadata": {
        "id": "Cf58r-ypn5st"
      },
      "execution_count": null,
      "outputs": []
    },
    {
      "cell_type": "code",
      "source": [
        "# 7. NumPy - Broadcasting & Element-wise Operations\n",
        "# You are given the following NumPy arrays:\n",
        "# a = np.array([1, 2, 3])\n",
        "# b = np.array([10, 20, 30])\n",
        "# Task\n",
        "# Perform:\n",
        "# 1.\tElement-wise multiplication of a and b.\n",
        "# 2.\tAdd 5 to each element of a using broadcasting.\n",
        "# ________________________________________"
      ],
      "metadata": {
        "id": "mY9KwaNhn53q"
      },
      "execution_count": null,
      "outputs": []
    },
    {
      "cell_type": "code",
      "source": [
        "\n",
        "# 8. Finding Maximum and Minimum Values in a NumPy Array\n",
        "# Given:\n",
        "# arr = np.array([[3, 7, 2], [4, 9, 6]])\n",
        "# Task\n",
        "# •\tFind the maximum value in the entire array.\n",
        "# •\tFind the minimum value in each row.\n",
        "# ________________________________________"
      ],
      "metadata": {
        "id": "k6psFZqWn6DI"
      },
      "execution_count": null,
      "outputs": []
    },
    {
      "cell_type": "code",
      "source": [
        "\n",
        "# 9. Grouping & Aggregation in Pandas\n",
        "# You have the following DataFrame:\n",
        "# df = pd.DataFrame({\n",
        "#     \"Department\": [\"IT\", \"HR\", \"IT\", \"Finance\", \"HR\"],\n",
        "#     \"Salary\": [70000, 50000, 80000, 60000, 52000]\n",
        "# })\n",
        "# Task\n",
        "# Write a Pandas command to:\n",
        "# •\tGroup the DataFrame by \"Department\" and calculate the average salary per department.\n",
        "# ________________________________________"
      ],
      "metadata": {
        "id": "uM5MvViCn6Ni"
      },
      "execution_count": null,
      "outputs": []
    },
    {
      "cell_type": "code",
      "source": [
        "# 10. Sorting a DataFrame\n",
        "# Given the following DataFrame:\n",
        "# df = pd.DataFrame({\n",
        "#     \"City\": [\"New York\", \"Los Angeles\", \"Chicago\", \"Houston\"],\n",
        "#     \"Population\": [8419600, 3980400, 2716000, 2328000]\n",
        "# })\n",
        "# Task\n",
        "# •\tSort the DataFrame by Population in descending order.\n",
        "# ________________________________________"
      ],
      "metadata": {
        "id": "fDnLSCKan6aE"
      },
      "execution_count": null,
      "outputs": []
    },
    {
      "cell_type": "code",
      "source": [
        "\n",
        "# 11. Multi-Indexing in Pandas\n",
        "# You are given the following DataFrame:\n",
        "# data = {\n",
        "#     \"Region\": [\"North\", \"North\", \"South\", \"South\", \"East\", \"East\"],\n",
        "#     \"City\": [\"A\", \"B\", \"A\", \"B\", \"A\", \"B\"],\n",
        "#     \"Sales\": [200, 150, 180, 220, 300, 250]\n",
        "# }\n",
        "# df = pd.DataFrame(data).set_index([\"Region\", \"City\"])\n",
        "# Task\n",
        "# •\tRetrieve the sales value for City A in the South Region using multi-indexing.\n",
        "# ________________________________________"
      ],
      "metadata": {
        "id": "QX1zilwNn6kb"
      },
      "execution_count": null,
      "outputs": []
    },
    {
      "cell_type": "code",
      "source": [
        "\n",
        "# 12. Creating a DataFrame from a NumPy Array\n",
        "# Generate a 5x4 NumPy array with random integers between 10 and 99 and convert it into a Pandas DataFrame with column names [\"A\", \"B\", \"C\", \"D\"].\n",
        "# ________________________________________"
      ],
      "metadata": {
        "id": "A6zWqpK8n6vH"
      },
      "execution_count": null,
      "outputs": []
    },
    {
      "cell_type": "code",
      "source": [
        "# 13. Conditional Column Update\n",
        "# Given the following DataFrame:\n",
        "# df = pd.DataFrame({\n",
        "#     \"Student\": [\"Alice\", \"Bob\", \"Charlie\", \"David\"],\n",
        "#     \"Marks\": [88, 45, 76, 90],\n",
        "#     \"Attendance\": [85, 50, 90, 60]\n",
        "# })\n",
        "# Task\n",
        "# Write a one-liner Pandas command to set \"Marks\" to 0 for students whose \"Attendance\" is less than 60.\n",
        "# ________________________________________"
      ],
      "metadata": {
        "id": "1zGiaat3n66U"
      },
      "execution_count": null,
      "outputs": []
    },
    {
      "cell_type": "code",
      "source": [
        "# 14. Advanced Filtering\n",
        "# From a CSV file \"employees.csv\" with columns:\n",
        "# EmployeeID, Department, Salary, Experience (in years).\n",
        "# Note: You should create “employees.csv” & perform the below task\n",
        "# Task\n",
        "# Write a Pandas query to:\n",
        "# •\tSelect employees from \"IT\" or \"Finance\" department\n",
        "# •\tHaving Salary > 60,000\n",
        "# •\tAND at least 5 years of experience\n",
        "# ________________________________________"
      ],
      "metadata": {
        "id": "f3eDdRpqn7FB"
      },
      "execution_count": null,
      "outputs": []
    },
    {
      "cell_type": "code",
      "source": [
        "\n",
        "# 15. Grouping & Aggregation with Multiple Conditions\n",
        "# Given the following DataFrame:\n",
        "# df = pd.DataFrame({\n",
        "#     \"Department\": [\"IT\", \"HR\", \"IT\", \"Finance\", \"HR\", \"Finance\", \"IT\"],\n",
        "#     \"Salary\": [70000, 50000, 80000, 60000, 52000, 72000, 65000],\n",
        "#     \"Experience\": [5, 4, 7, 3, 2, 8, 6]\n",
        "# })\n",
        "# Task\n",
        "# Find the average salary for each department, but only for employees with at least 5 years of experience.\n",
        "# ________________________________________"
      ],
      "metadata": {
        "id": "TcV2BBV2n7Pt"
      },
      "execution_count": null,
      "outputs": []
    },
    {
      "cell_type": "code",
      "source": [
        "# 16. NumPy - Complex Indexing\n",
        "# Create a 5x5 NumPy array with random values between 1 and 100.\n",
        "# Write a NumPy command to:\n",
        "# •\tExtract only even numbers from the array.\n",
        "# •\tExtract values from the last row and last column.\n",
        "# •\tReplace all values greater than 50 with 0.\n",
        "# ________________________________________"
      ],
      "metadata": {
        "id": "9voWRE18n7aG"
      },
      "execution_count": null,
      "outputs": []
    },
    {
      "cell_type": "code",
      "source": [
        "# 17. Matrix Multiplication\n",
        "# Given the two NumPy matrices:\n",
        "# A = np.array([[2, 4], [6, 8]])\n",
        "# B = np.array([[1, 3], [5, 7]])\n",
        "# Task\n",
        "# Perform matrix multiplication and output the result.\n",
        "# ________________________________________"
      ],
      "metadata": {
        "id": "ff7MVsE_n7ky"
      },
      "execution_count": null,
      "outputs": []
    },
    {
      "cell_type": "code",
      "source": [
        "# 18. Finding Unique & Common Elements\n",
        "# You are given two NumPy arrays:\n",
        "# arr1 = np.array([10, 20, 30, 40, 50, 60])\n",
        "# arr2 = np.array([30, 40, 70, 80, 90])\n",
        "# Task\n",
        "# •\tFind the elements that are common in both arrays.\n",
        "# •\tFind the elements that are only present in arr1 but not in arr2.\n",
        "# ________________________________________"
      ],
      "metadata": {
        "id": "AEa_-SDnn7wh"
      },
      "execution_count": null,
      "outputs": []
    },
    {
      "cell_type": "code",
      "source": [
        "\n",
        "\n",
        "# 19. Sorting & Ranking in Pandas\n",
        "# You are given the following DataFrame:\n",
        "# df = pd.DataFrame({\n",
        "#     \"Player\": [\"A\", \"B\", \"C\", \"D\"],\n",
        "#     \"Score\": [200, 450, 300, 150]\n",
        "# })\n",
        "# Task\n",
        "# •\tSort the players by descending Score.\n",
        "# •\tAssign ranking to each player (1st, 2nd, 3rd...) without skipping numbers.\n",
        "# ________________________________________"
      ],
      "metadata": {
        "id": "KConL3V4n77d"
      },
      "execution_count": null,
      "outputs": []
    },
    {
      "cell_type": "code",
      "source": [
        "\n",
        "\n",
        "# 20. Optimizing Pandas Performance\n",
        "# You have a large CSV file (\"big_data.csv\") with 1 million rows.\n",
        "# Note: You should search & download a large csv file from any portal & use it to perform below tasks\n",
        "# Task\n",
        "# Write optimized Pandas code to:\n",
        "# •\tLoad only specific columns: \"CustomerID\" and \"PurchaseAmount\".\n",
        "# •\tLoad only the first 100,000 rows.\n",
        "# •\tUse an efficient data type for \"CustomerID\" to save memory."
      ],
      "metadata": {
        "id": "MPRXHB3An8Ga"
      },
      "execution_count": null,
      "outputs": []
    }
  ]
}